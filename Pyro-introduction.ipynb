{
 "cells": [
  {
   "cell_type": "markdown",
   "metadata": {},
   "source": [
    "Pyro\n",
    "====\n"
   ]
  },
  {
   "cell_type": "markdown",
   "metadata": {},
   "source": [
    "**Pyro** is a **probabilistic programming language** released by Uber AI Labs. It is a tool for deep probabilistic modelling built on top of PyTorch, unifying the best of modern deep learning and Bayesian modeling. [[link]](https://eng.uber.com/pyro/)\n",
    "\n",
    "A probabilistic programming language is a programming language designed to describe probabilistic models and then perform inference in those models.\n",
    "\n",
    "Like PyTorch, Pyro supports arbitrary Python code (iteration, recursion, higher-order functions etc.), which makes it universal to represent any computable probability distribution. Thanks to PyTorch, Pyro can benefit from GPU-accelerated tensor math.\n"
   ]
  },
  {
   "cell_type": "code",
   "execution_count": 1,
   "metadata": {},
   "outputs": [],
   "source": [
    "# import pytorch and pyro; set random generator seed\n",
    "import torch\n",
    "\n",
    "import pyro\n",
    "import pyro.distributions as dist\n",
    "\n",
    "import matplotlib.pyplot as plt\n",
    "from tqdm.notebook import trange\n",
    "\n",
    "pyro.set_rng_seed(101)\n",
    "\n",
    "# to clear all variables stored by Pyro\n",
    "pyro.clear_param_store()\n",
    "\n",
    "# enable validation for useful warnings and errors\n",
    "pyro.enable_validation(True)\n"
   ]
  },
  {
   "cell_type": "markdown",
   "metadata": {},
   "source": [
    "----\n",
    "\n",
    "## Primitive Stochastic Functions\n",
    "\n",
    "The key element of probabilistic programs are primitive stochastic functions, or distributions. Currently, Pyro uses PyTorch distributions: `torch.distributions`.\n"
   ]
  },
  {
   "cell_type": "code",
   "execution_count": 2,
   "metadata": {},
   "outputs": [
    {
     "name": "stdout",
     "output_type": "stream",
     "text": [
      "normal | sample: -1.3905061483383179\n"
     ]
    }
   ],
   "source": [
    "# draw a sample from N(0, 1)\n",
    "loc = 0.  # mean\n",
    "scale = 1.  # variance\n",
    "normal_dist = torch.distributions.Normal(loc, scale)  # normal distribution N(0, 1)\n",
    "x = normal_dist.rsample()  # draw a sample - for N rsample\n",
    "print(f\"normal | sample: {x}\")\n"
   ]
  },
  {
   "cell_type": "code",
   "execution_count": 3,
   "metadata": {},
   "outputs": [
    {
     "name": "stdout",
     "output_type": "stream",
     "text": [
      "beta | sample: 0.16051988303661346\n"
     ]
    }
   ],
   "source": [
    "# draw a sample from B(alpha=2, beta=5)\n",
    "alpha = 2\n",
    "beta = 5\n",
    "beta_dist = torch.distributions.Beta(alpha, beta)\n",
    "x = beta_dist.sample()\n",
    "print(f\"beta | sample: {x}\")\n"
   ]
  },
  {
   "cell_type": "markdown",
   "metadata": {},
   "source": [
    "### Model\n",
    "\n",
    "In Pyro, models are Python functions, which take data as input and use Pyro primitives to analyze the data. All probabilistic programs are built with primitive stochastic functions and deterministic computation.\n",
    "\n",
    "For example, suppose we would like to model daily mean temperatures and cloud cover and how their interact with each other.\n",
    "\n",
    "Let's declare a function that will describe those interactions:\n",
    "  *  define a random variable `cloudy`, given by a draw from the Bernoulli distribution with param `0.3`; this will return either `0` or `1`, so then we parse it to a string; according to this line, 30% of the time it's cloudy, 70% it's sunny\n",
    "  *  define parameters of temperature distributions, i.e. mean and variance, for both cloudy and sunny weather: when it's sunny the mean is 18 degrees Celsius, with variance of 15 degrees, and when it's cloudy the mean equals 13 degrees with variance 15 degrees.\n",
    "  *  use the values to declare a Normal distribution $\\mathcal{N}(\\mu, \\sigma^2)$ and draw a sample\n",
    "  *  return the weather and temperature\n"
   ]
  },
  {
   "cell_type": "code",
   "execution_count": 4,
   "metadata": {},
   "outputs": [
    {
     "name": "stdout",
     "output_type": "stream",
     "text": [
      "('sunny', 34.110050201416016)\n",
      "('sunny', 35.53456115722656)\n",
      "('sunny', 34.380645751953125)\n"
     ]
    }
   ],
   "source": [
    "def weather():\n",
    "    cloudy = torch.distributions.Bernoulli(0.3).sample()\n",
    "    cloudy = 'cloudy' if cloudy.item() == 1.0 else 'sunny'\n",
    "    mean_temp = {'cloudy': 13.0, 'sunny': 18.0}[cloudy]\n",
    "    scale_temp = {'cloudy': 10.0, 'sunny': 15.0}[cloudy]\n",
    "    temp = torch.distributions.Normal(mean_temp, scale_temp).rsample()\n",
    "    return cloudy, temp.item()\n",
    "    \n",
    "\n",
    "for _ in range(3):\n",
    "    print(weather())\n"
   ]
  },
  {
   "cell_type": "markdown",
   "metadata": {},
   "source": [
    "This function is independent of Pyro - it calls PyTorch `torch.distributions`. For a Pyro program we need to apply a few modifications.\n"
   ]
  },
  {
   "cell_type": "markdown",
   "metadata": {},
   "source": [
    "### `pyro.sample`\n",
    "\n",
    "It is a Pyro primitive for a latent random variable. To use `pyro.sample` we need to introduce `pyro.distributions`, which is a thin wrapper for `torch.distributions`, and `pyro.sample`, which replaces all calls of `.sample()` and `.rsample()`.\n"
   ]
  },
  {
   "cell_type": "code",
   "execution_count": 5,
   "metadata": {},
   "outputs": [
    {
     "name": "stdout",
     "output_type": "stream",
     "text": [
      "normal | sample: 3.179267168045044\n"
     ]
    }
   ],
   "source": [
    "# draw a sample from N(0, 1)\n",
    "loc = 0.  # mean\n",
    "scale = 1.  # variance\n",
    "x = pyro.sample(\"normal_sample\", pyro.distributions.Normal(loc, scale))\n",
    "print(f\"normal | sample: {x}\")\n"
   ]
  },
  {
   "cell_type": "code",
   "execution_count": 6,
   "metadata": {},
   "outputs": [
    {
     "name": "stdout",
     "output_type": "stream",
     "text": [
      "beta | sample: 0.10001221299171448\n"
     ]
    }
   ],
   "source": [
    "# draw a sample from B(alpha=2, beta=5)\n",
    "alpha = 2\n",
    "beta = 5\n",
    "x = pyro.sample(\"beta_sample\", pyro.distributions.Beta(alpha, beta))\n",
    "print(f\"beta | sample: {x}\")\n"
   ]
  },
  {
   "cell_type": "markdown",
   "metadata": {},
   "source": [
    "The crucial difference here is that each sample is **named**. The backend of Pyro uses this names to uniquely identify sample statements and change their behavior at runtime, depending on how the enclosing stochastic function is used. This is how Pyro can implement various manipulations, that underlie inference algorithms.\n",
    "\n",
    "Here, we use a short name `dist` for `pyro.distributions`.\n"
   ]
  },
  {
   "cell_type": "code",
   "execution_count": 7,
   "metadata": {},
   "outputs": [
    {
     "name": "stdout",
     "output_type": "stream",
     "text": [
      "('sunny', 44.10396957397461)\n",
      "('sunny', -0.5892314910888672)\n",
      "('sunny', 0.5812034606933594)\n"
     ]
    }
   ],
   "source": [
    "# weather model rewritten as a Pyro program\n",
    "def weather():\n",
    "    cloudy = pyro.sample(\"cloudy\", dist.Bernoulli(0.3))\n",
    "    cloudy = 'cloudy' if cloudy.item() == 1.0 else 'sunny'\n",
    "    mean_temp = {'cloudy': 13.0, 'sunny': 18.0}[cloudy]\n",
    "    scale_temp = {'cloudy': 10.0, 'sunny': 15.0}[cloudy]\n",
    "    temp = pyro.sample(\"temp\", dist.Normal(mean_temp, scale_temp))\n",
    "    return cloudy, temp.item()\n",
    "\n",
    "\n",
    "for _ in range(3):\n",
    "    print(weather())\n"
   ]
  },
  {
   "cell_type": "markdown",
   "metadata": {},
   "source": [
    "Here, `weather()` is still a non-deterministic Python callable, that returns two random samples, but now invoked with `pyro.sample` - because of that Pyro allows us to access joint probability distribution over two named random variables: `cloudy` and `temp`, defining a probabilistic model that we can reason about using the techniques of probabilistic theory.\n",
    "\n",
    "A natural further step is to build off of the model. For example, ice cream sales depend heavily on the weather. Let's define a situation, where the expected sales depend on the cloudiness and the temperature.\n"
   ]
  },
  {
   "cell_type": "code",
   "execution_count": 8,
   "metadata": {},
   "outputs": [
    {
     "name": "stdout",
     "output_type": "stream",
     "text": [
      "tensor(199.1964)\n",
      "tensor(58.9899)\n",
      "tensor(50.0545)\n"
     ]
    }
   ],
   "source": [
    "# define ice cream sales as depending on the weather\n",
    "def ice_cream_sales():\n",
    "    cloudy, temp = weather()\n",
    "    expected_sales = 200. if cloudy == \"sunny\" and temp > 20.0 else 50.\n",
    "    ice_cream = pyro.sample(\"ice_cream\", dist.Normal(expected_sales, 10.0))\n",
    "    return ice_cream\n",
    "\n",
    "for _ in range(3):\n",
    "    print(ice_cream_sales())\n"
   ]
  },
  {
   "cell_type": "markdown",
   "metadata": {},
   "source": [
    "Since Pyro is embedded in Python, stochastic functions can contain complex deterministic Python - randomness can freely affect control flow! For example, recursive functions could be terminated nondeterministically, provided that we take care to use unique names of `pyro.sample`, such as in this geometric distribution counting the number of failures until the first success. Note, that each `pyro.sample` is created dynamically - we can have different numbers of named random variables.\n"
   ]
  },
  {
   "cell_type": "code",
   "execution_count": 9,
   "metadata": {},
   "outputs": [
    {
     "name": "stdout",
     "output_type": "stream",
     "text": [
      "2\n"
     ]
    }
   ],
   "source": [
    "# count number of drawing from Bernoulli distribution until success\n",
    "def geometric(p, t=None):\n",
    "    if t is None:\n",
    "        t = 0\n",
    "    x = pyro.sample(f\"x_{t}\", dist.Bernoulli(p))\n",
    "    if x.item() == 1:\n",
    "        return 0\n",
    "    else:\n",
    "        return 1 + geometric(p, t + 1)\n",
    "\n",
    "print(geometric(0.1))\n"
   ]
  },
  {
   "cell_type": "markdown",
   "metadata": {},
   "source": [
    "We might also define stochastic functions that accept as input or produce as output other stochastic functions. Here, `normal_product` returns a product of two variables sampled from normal distribution of the same parameters, whereas `make_normal_normal` returns a product of two samples from a normal distribution, where the mean is sampled from $\\mathcal{N}(0, 1)$.\n"
   ]
  },
  {
   "cell_type": "code",
   "execution_count": 10,
   "metadata": {},
   "outputs": [
    {
     "name": "stdout",
     "output_type": "stream",
     "text": [
      "tensor(2.0615)\n"
     ]
    }
   ],
   "source": [
    "def normal_product(loc, scale):\n",
    "    z1 = pyro.sample(\"z1\", dist.Normal(loc, scale))\n",
    "    z2 = pyro.sample(\"z2\", dist.Normal(loc, scale))\n",
    "    y = z1 * z2\n",
    "    return y\n",
    "\n",
    "def make_normal_normal():\n",
    "    mu_latent = pyro.sample(\"mu_latent\", dist.Normal(0, 1))\n",
    "    fn = lambda scale: normal_product(mu_latent, scale)\n",
    "    return fn\n",
    "\n",
    "\n",
    "print(make_normal_normal()(1.))\n"
   ]
  },
  {
   "cell_type": "markdown",
   "metadata": {},
   "source": [
    "Excercise\n",
    "---------\n"
   ]
  },
  {
   "cell_type": "markdown",
   "metadata": {},
   "source": [
    "1. Create a Pyro model of flipping a biased coin, using Bernoulli distribution. Set probability as $0.4$. Return the identifier and process in a loop.\n"
   ]
  },
  {
   "cell_type": "code",
   "execution_count": 11,
   "metadata": {
    "scrolled": true
   },
   "outputs": [
    {
     "name": "stdout",
     "output_type": "stream",
     "text": [
      "heads\n",
      "tails\n",
      "tails\n"
     ]
    }
   ],
   "source": [
    "def flip_coin():\n",
    "    side = pyro.sample(\"side\", dist.Bernoulli(0.4))\n",
    "    return side\n",
    "\n",
    "for _ in range(3):\n",
    "    print(\"heads\" if flip_coin() == 1 else \"tails\")\n"
   ]
  },
  {
   "cell_type": "markdown",
   "metadata": {},
   "source": [
    "2. Create a Pyro model for how much a person works (hourly employee). Default mean = 8, variance = 1. Take into account the following factors:\n",
    "  *  being sick (decreases the number of hours in a day to 0)\n",
    "  *  unexpected event (decreases the number of hours by 2)\n",
    "  *  feeling lazy (leave work one hour earlier)\n",
    "  *  working overtime (stay two hours longer)\n",
    "  \n",
    "  Use Categorical distribution. Assume your own probabilities.\n"
   ]
  },
  {
   "cell_type": "code",
   "execution_count": 12,
   "metadata": {},
   "outputs": [
    {
     "name": "stdout",
     "output_type": "stream",
     "text": [
      "tensor(0.)\n",
      "tensor(10.6948)\n",
      "tensor(9.8717)\n"
     ]
    }
   ],
   "source": [
    "def working_hours():\n",
    "    mean = 8\n",
    "    variance = 1\n",
    "    # [sick, unexpected, lazy, overtime, normal]\n",
    "    probas = torch.tensor([0.1, 0.05, 0.2, 0.15, 0.5])\n",
    "    factor = pyro.sample(\"factor\", dist.Categorical(probas))\n",
    "    hours = pyro.sample(\"working_hours\", dist.Normal(mean, variance))\n",
    "    diff = [-hours, -2, -1, 2, 0]\n",
    "    return hours + diff[factor.item()]\n",
    "\n",
    "\n",
    "for _ in range(3):\n",
    "    print(working_hours())"
   ]
  },
  {
   "cell_type": "markdown",
   "metadata": {},
   "source": [
    "----\n",
    "\n",
    "## Introduction to inference\n",
    "\n",
    "In pyro, the model function can be used for approximate inference. Here, we will prepare another simple example and use it for inference.\n",
    "\n",
    "For example, imagine driving a car with an inaccurate speedometer, that gives different values ever, let's say, with a variance of 5.0. We could try to guess the speed based on how the surroundings move and use this guess to compensate for the inaccuracy of the speedometer, however our guess is inaccurate as well. This is shown by this model:\n",
    "\n",
    "$$speed \\mid guess \\sim \\mathcal{N}(guess, 10)$$\n",
    "$$measurement \\mid guess, speed \\sim \\mathcal{N}(speed, 5)$$\n"
   ]
  },
  {
   "cell_type": "code",
   "execution_count": 13,
   "metadata": {},
   "outputs": [
    {
     "name": "stdout",
     "output_type": "stream",
     "text": [
      "tensor(41.5283)\n",
      "tensor(39.3993)\n",
      "tensor(39.7645)\n",
      "tensor(41.1400)\n",
      "tensor(39.5311)\n"
     ]
    }
   ],
   "source": [
    "def speedometer(guess):\n",
    "    speed = pyro.sample(\"speed\", dist.Normal(guess, 2.))\n",
    "    return pyro.sample(\"measurement\", dist.Normal(speed, 1.))\n",
    "\n",
    "\n",
    "for i in range(5):\n",
    "    print(speedometer(40))\n"
   ]
  },
  {
   "cell_type": "markdown",
   "metadata": {},
   "source": [
    "### Conditioning\n",
    "\n",
    "The utility of probabilistic programming is the ability to **condition** the generative models (such as the `speedometer`) on observed data and infer the latent factors, that might have produced the data.\n",
    "\n",
    "In Pyro, the expression of condition is separated from evaluation via inference, so that we can write a model once and condition it on many different observations. We can constrain a model's internal `sample` statements to be equal to a given set of observations.\n",
    "\n",
    "Considering our `speedometer`, we want to sample from the distribution of `speed` given input `guess = 40`; we are trying to infer the distribution\n",
    "\n",
    "$$\\left(speed \\mid guess, measurement = 40\\right) \\sim ?$$\n",
    "\n",
    "That's where `pyro.condition` comes handy. It allows us to constrain the values of sample statements. In other words, `pyro.condition` means to force the sample to return the provided value. It is a higher-order function that takes a model and a dictionary of observations and returns a new model, that has the same input and output signatures, but always uses the given value at observed `sample` statements. For example:\n"
   ]
  },
  {
   "cell_type": "code",
   "execution_count": 14,
   "metadata": {},
   "outputs": [],
   "source": [
    "conditioned_speedometer = pyro.condition(speedometer, data={\"measurement\": torch.tensor(40.)})\n"
   ]
  },
  {
   "cell_type": "markdown",
   "metadata": {},
   "source": [
    "Conditioned model behaves like an ordinary Python function - it might be parametrized as below:\n"
   ]
  },
  {
   "cell_type": "code",
   "execution_count": 15,
   "metadata": {},
   "outputs": [
    {
     "name": "stdout",
     "output_type": "stream",
     "text": [
      "40\n"
     ]
    }
   ],
   "source": [
    "def deferred_conditioned_speedometer(measurement, guess):\n",
    "    return pyro.condition(speedometer, data={\"measurement\": measurement})(guess)\n",
    "\n",
    "lambda measurement, guess: pyro.condition(speedometer, data={\"measurement\": measurement})(guess)\n",
    "\n",
    "print(deferred_conditioned_speedometer(40, 100))\n"
   ]
  },
  {
   "cell_type": "markdown",
   "metadata": {},
   "source": [
    "Instead of using `python.condition` we might also add the optional `obs` argument to `pyro.sample`. `obs` keyword is exclusive to the model.\n"
   ]
  },
  {
   "cell_type": "code",
   "execution_count": 16,
   "metadata": {},
   "outputs": [
    {
     "name": "stdout",
     "output_type": "stream",
     "text": [
      "40.0\n"
     ]
    },
    {
     "name": "stderr",
     "output_type": "stream",
     "text": [
      "/Users/piotrz/.miniconda3/envs/puma/lib/python3.7/site-packages/pyro/primitives.py:86: RuntimeWarning: trying to observe a value outside of inference at measurement\n",
      "  RuntimeWarning)\n"
     ]
    }
   ],
   "source": [
    "# same as conditioned_speedometer\n",
    "def speedometer(guess):\n",
    "    speed = pyro.sample(\"speed\", dist.Normal(guess, 10.))\n",
    "    # condition on measurement\n",
    "    return pyro.sample(\"measurement\", dist.Normal(speed, 5.), obs=40.)\n",
    "\n",
    "\n",
    "print(speedometer(45))\n"
   ]
  },
  {
   "cell_type": "markdown",
   "metadata": {},
   "source": [
    "### Guide functions\n",
    "\n",
    "Go back to `conditioned_speedometer`. With conditioning on an observation of `measurement` we are now able to use Pyro's approximate inference algorithm to estimate the distribution over `speed` given `guess` and `measurement == data`.\n",
    "\n",
    "That's where *guide functions* come in use. In Pyro, the model function can be treated as the real *posterior distribution* $P(speed \\mid guess, measurement)$ (given the `guess` and `measurement`, what is the probability distribution over `speed`), whereas guide is the approximation of the posterior distribution $Q(speed)$ (approximation of probability distribution over the latent variables) - the closest possible to `P`.\n",
    "\n",
    "In practice, $Q$ will be a simpler distribution than $P$, and in Pyro guide tries to approximate the model as good as it's possible.\n",
    "\n",
    "![image.png](https://miro.medium.com/max/800/1*cUMrUSWmLClDfYa9LTO8KA.png)\n",
    "\n",
    "There are two criterias for guide functions to be a valid approximations for a particular model:\n",
    "\n",
    "  *  all unobserved (i.e. not conditioned) sample statements that appear in the model must appear in the guide\n",
    "  *  the guide must have the same input signature as the model (i.e. take the same arguments)\n",
    "  \n",
    "The precise meaning of the guide is different across different inference algorithms (in Pyro importance sampling, MCMC and stochastic variational inference are available).\n",
    "\n",
    "In the case of our `speedometer`, the true posterior distribution is actually tractable and could be determined analytically, however, such case is rather an exception than the rule. For example, in a case of a nonlinearity in the model the posterior may become intractable:\n"
   ]
  },
  {
   "cell_type": "code",
   "execution_count": 17,
   "metadata": {},
   "outputs": [
    {
     "data": {
      "text/plain": [
       "tensor(15.8543)"
      ]
     },
     "execution_count": 17,
     "metadata": {},
     "output_type": "execute_result"
    }
   ],
   "source": [
    "def nonlinear_function(value):\n",
    "    if value >= 10:\n",
    "        return 0.01 * value ** 2 +  value\n",
    "    else:\n",
    "        return abs(0.02 * value ** 2 + 0.8 * value)\n",
    "\n",
    "def intractable_speedometer(guess):\n",
    "    speed = pyro.sample(\"speed\", dist.Normal(guess, 10.))\n",
    "    return pyro.sample(\"measurement\", dist.Normal(nonlinear_function(speed), 5))\n",
    "    \n",
    "intractable_speedometer(38)\n"
   ]
  },
  {
   "cell_type": "markdown",
   "metadata": {},
   "source": [
    "In such case we should use a top-level function `python.param`. It specifies a *family* of guides indexed by named parameters, and searches for the member of that family that is the best approximation according to some loss functions. This approach to approximate posterior is called ***variational inference***.\n",
    "\n",
    "`pyro.param` is exclusive to guides. It is a frontend for Pyro's key-value *parameter store*. Like `pyro.sample`, it is always called with a name as its first argument.\n",
    "\n",
    "The first time `pyro.param` is called with a particular name, its argument is stored in the parameter store and the value is returned. After that, whent it's called with that name, it returns the value from the parameter store regardless of any other argument. Furthermore, `pyro.param` provides differentiation for the inputs - this are the pieces of the guide that are actually going to be trained.\n",
    "\n",
    "For example, we could parametrize normal distribution in `speedometer_guide` as below:\n"
   ]
  },
  {
   "cell_type": "code",
   "execution_count": 18,
   "metadata": {},
   "outputs": [],
   "source": [
    "def speedometer_parametrized_guide(guess):  # same argument set as the model\n",
    "    loc = pyro.param(\"loc\", torch.tensor(guess))\n",
    "    scale = pyro.param(\"scale\", torch.tensor(1.))\n",
    "    return pyro.sample(\"speed\", dist.Normal(loc, torch.abs(scale)))  # notice absolute value of scale\n"
   ]
  },
  {
   "cell_type": "markdown",
   "metadata": {},
   "source": [
    "Notice, that since variance of normal distribution has to be positive, we applied `torch.abs`. There are other restrictions that might be necessary in other distributions. PyTorch distributions library includes a module containing such restrictions: [torch.distributions.constraints](https://pytorch.org/docs/master/distributions.html#module-torch.distributions.constraints). Applying a constrinat is done by passing the relevant object to `pyro.param` as below:\n"
   ]
  },
  {
   "cell_type": "code",
   "execution_count": 19,
   "metadata": {},
   "outputs": [],
   "source": [
    "from torch.distributions import constraints\n",
    "\n",
    "\n",
    "def speedometer_parametrized_guide_constrained(guess):\n",
    "    loc = pyro.param(\"loc\", torch.tensor(guess))\n",
    "    scale = pyro.param(\"scale\", torch.tensor(1.), constraint=constraints.positive)\n",
    "    return pyro.sample(\"speed\", dist.Normal(loc, scale))\n"
   ]
  },
  {
   "cell_type": "markdown",
   "metadata": {},
   "source": [
    "### Stochastic variational inference\n",
    "\n",
    "In Pyro, the main algorithm of variational inference is stochastic variational inference. It has three key characteristics:\n",
    "  *  parameters are real-valued tensors\n",
    "  *  estimates of a loss function are computed using Monte Carlo estimates from samples of execution histories of the model and guide\n",
    "  *  to search for optimal parameters, stochastic gradient descent is used\n",
    "\n",
    "Each step in the training proess will take one pass through the model and incorporate the observed data. Then, it will go through the model once again, replacing `pyro.sample` statements with corresponding statement from the guide and compare the resulting distribution from the model and the guide, to adjust the `pyro.param` values in order to get the guide closer to the model. In theory, that should cause the guide to follow the model and get close enough to approixmate it.\n",
    "\n",
    "The difference between two probability distribution is commonly quantified using the KL divergence:\n",
    "\n",
    "$$D_{KL}\\left(guide \\mid\\mid model\\right) = -\\sum_{x \\in \\mathcal{X}} Q_{guide}\\left(x\\right) \\left(\\log P_{model}\\left(x \\mid z\\right) - \\log Q_{guide}\\left(x\\right)\\right)$$\n",
    "$$=-\\mathbb{E}_{x \\sim Q_{guide}} \\left[\\log P_{model}\\left(x \\mid z\\right) - \\log Q_{guide}\\left(x\\right)\\right]$$\n",
    "\n",
    "> For all possible values of the latent variable(s) $x$, compute the difference in log probability between the model and the guide, and weigh that difference by the likelihood of each assignment under the guide (expectation of the difference in terms of the guide)\n",
    "\n",
    "This still requires us to know $P_{model}(z)$, which is usually intractable. Instead, we can factor out the intractable term to get ELBO (*Evidence Lower BOund*):\n",
    "\n",
    "$$ELBO\\left(guide \\mid model\\right) = \\mathbb{E}_{x \\sim Q_{guide}} \\left[\\log P_{model}\\left(x, z\\right) - \\log Q_{guide}\\left(x\\right)\\right]$$\n",
    "\n",
    "The crucial difference is, that here $P_{model}$ is a joint probability and therefore might be computed directly in the code.\n",
    "\n",
    "Our goal is to use the ELBO to determine how different the guide function is from the conditioned model.\n"
   ]
  },
  {
   "cell_type": "code",
   "execution_count": 20,
   "metadata": {},
   "outputs": [
    {
     "data": {
      "application/vnd.jupyter.widget-view+json": {
       "model_id": "e1cb558220744e6490fb54509a2da8bf",
       "version_major": 2,
       "version_minor": 0
      },
      "text/plain": [
       "HBox(children=(FloatProgress(value=0.0, max=5000.0), HTML(value='')))"
      ]
     },
     "metadata": {},
     "output_type": "display_data"
    },
    {
     "name": "stdout",
     "output_type": "stream",
     "text": [
      "\n",
      "loc   = 40.207000732421875\n",
      "scale = 0.9473442435264587\n"
     ]
    },
    {
     "data": {
      "image/png": "[encoded data removed]",
      "text/plain": [
       "<Figure size 432x288 with 1 Axes>"
      ]
     },
     "metadata": {
      "needs_background": "light"
     },
     "output_type": "display_data"
    }
   ],
   "source": [
    "guess = 41.\n",
    "\n",
    "pyro.clear_param_store()\n",
    "svi = pyro.infer.SVI(model=conditioned_speedometer,\n",
    "                     guide=speedometer_parametrized_guide_constrained,\n",
    "                     optim=pyro.optim.SGD({\"lr\": 1e-3}),\n",
    "                     loss=pyro.infer.Trace_ELBO())\n",
    "\n",
    "losses, locs, scales = [], [], []\n",
    "n_steps = 5_000\n",
    "for t in trange(n_steps):\n",
    "    losses.append(svi.step(guess))\n",
    "    locs.append(pyro.param(\"loc\").item())\n",
    "    scales.append(pyro.param(\"scale\").item())\n",
    "    \n",
    "plt.plot(losses)\n",
    "plt.title(\"ELBO\")\n",
    "plt.xlabel(\"step\")\n",
    "plt.ylabel(\"loss\")\n",
    "print(f\"loc   = {pyro.param('loc').item()}\")\n",
    "print(f\"scale = {pyro.param('scale').item()}\")\n"
   ]
  },
  {
   "cell_type": "code",
   "execution_count": 21,
   "metadata": {},
   "outputs": [
    {
     "data": {
      "image/png": "[encoded data removed]",
      "text/plain": [
       "<Figure size 432x288 with 2 Axes>"
      ]
     },
     "metadata": {
      "needs_background": "light"
     },
     "output_type": "display_data"
    }
   ],
   "source": [
    "plt.subplot(1,2,1)\n",
    "plt.plot(locs)\n",
    "plt.ylabel('loc')\n",
    "\n",
    "plt.subplot(1,2,2)\n",
    "plt.ylabel('scale')\n",
    "plt.plot(scales)\n",
    "plt.tight_layout()"
   ]
  },
  {
   "cell_type": "markdown",
   "metadata": {},
   "source": [
    "Notice, that we will load the parameter values from the parameter store - that's where Pyro stores them throughout training.\n"
   ]
  },
  {
   "cell_type": "markdown",
   "metadata": {},
   "source": [
    "Excercise\n",
    "---------\n"
   ]
  },
  {
   "cell_type": "markdown",
   "metadata": {},
   "source": [
    "1. Create a guide for coin flipping model, with starting param value $0.5$. Train a model, show a plot of how loss and predicted probability varies.\n"
   ]
  },
  {
   "cell_type": "code",
   "execution_count": 22,
   "metadata": {},
   "outputs": [],
   "source": [
    "def flip_coin_guide():\n",
    "    p = pyro.param(\"p\", torch.tensor(0.5))\n",
    "    return pyro.sample(\"side\", dist.Bernoulli(p))\n"
   ]
  },
  {
   "cell_type": "code",
   "execution_count": 23,
   "metadata": {},
   "outputs": [
    {
     "data": {
      "application/vnd.jupyter.widget-view+json": {
       "model_id": "d4593442765c43c5965319da68dce484",
       "version_major": 2,
       "version_minor": 0
      },
      "text/plain": [
       "HBox(children=(FloatProgress(value=0.0, max=2500.0), HTML(value='')))"
      ]
     },
     "metadata": {},
     "output_type": "display_data"
    },
    {
     "name": "stdout",
     "output_type": "stream",
     "text": [
      "\n",
      "p = 0.4000033736228943\n"
     ]
    },
    {
     "data": {
      "image/png": "[encoded data removed]",
      "text/plain": [
       "<Figure size 432x288 with 1 Axes>"
      ]
     },
     "metadata": {
      "needs_background": "light"
     },
     "output_type": "display_data"
    },
    {
     "data": {
      "image/png": "[encoded data removed]",
      "text/plain": [
       "<Figure size 432x288 with 1 Axes>"
      ]
     },
     "metadata": {
      "needs_background": "light"
     },
     "output_type": "display_data"
    }
   ],
   "source": [
    "lr = 1e-3\n",
    "n_steps = 2500\n",
    "\n",
    "pyro.clear_param_store()\n",
    "svi = pyro.infer.SVI(model=flip_coin,\n",
    "                     guide=flip_coin_guide,\n",
    "                     optim=pyro.optim.SGD({\"lr\": lr}),\n",
    "                     loss=pyro.infer.Trace_ELBO())\n",
    "\n",
    "losses, probas = [], []\n",
    "for _ in trange(n_steps):\n",
    "    losses.append(svi.step())\n",
    "    probas.append(pyro.param(\"p\").item())\n",
    "\n",
    "plt.plot(losses)\n",
    "plt.title(\"ELBO\")\n",
    "plt.xlabel(\"step\")\n",
    "plt.ylabel(\"loss\")\n",
    "print(f\"p = {pyro.param('p').item()}\")\n",
    "plt.show()\n",
    "\n",
    "plt.subplot(1,1,1)\n",
    "plt.plot(probas)\n",
    "plt.ylabel('probability')\n",
    "plt.tight_layout()\n",
    "plt.show()\n"
   ]
  },
  {
   "cell_type": "markdown",
   "metadata": {},
   "source": [
    "----\n",
    "Homework\n",
    "-------\n",
    "\n",
    "\n"
   ]
  },
  {
   "cell_type": "markdown",
   "metadata": {},
   "source": [
    "1. Prepare a Pyro model function, which will express the number of buses arriving and the bus stop in an hour. Assume [Poisson distribution](https://en.wikipedia.org/wiki/Poisson_distribution) of the number of arrivals in per hour:\n",
    "\n",
    "   $$N \\sim Pois\\left(\\lambda\\right)$$\n",
    "\n",
    "   where $\\lambda$ is set using a function:\n",
    "   \n",
    "   $$\\lambda = \\left\\{\\begin{array}{c} 2 + 2 * \\sin\\left(\\frac{\\pi}{16}\\left(t - 8\\right)\\right),\\; t \\in \\left[8, 24\\right]  \\\\ 1,\\; t \\notin \\left[8, 24\\right] \\end{array}\\right.$$\n",
    "   \n",
    "   Where $t$ is hour of the day. Use the function from the cell below.\n"
   ]
  },
  {
   "cell_type": "code",
   "execution_count": 24,
   "metadata": {},
   "outputs": [
    {
     "name": "stdout",
     "output_type": "stream",
     "text": [
      "tensor(1.)\n",
      "tensor(2.)\n",
      "tensor(0.)\n",
      "tensor(3.)\n",
      "tensor(1.)\n",
      "tensor(0.)\n",
      "tensor(0.)\n",
      "tensor(2.)\n",
      "tensor(4.)\n",
      "tensor(1.)\n",
      "tensor(3.)\n",
      "tensor(1.)\n",
      "tensor(1.)\n",
      "tensor(4.)\n",
      "tensor(3.)\n",
      "tensor(5.)\n",
      "tensor(3.)\n",
      "tensor(5.)\n",
      "tensor(4.)\n",
      "tensor(4.)\n",
      "tensor(3.)\n",
      "tensor(3.)\n",
      "tensor(1.)\n",
      "tensor(2.)\n"
     ]
    }
   ],
   "source": [
    "from math import sin, pi\n",
    "\n",
    "\n",
    "def bus_rate(hour):\n",
    "    if 8 <= hour <= 24:\n",
    "        return 2 + 2 * sin(pi / 16 * (hour - 8))\n",
    "    else:\n",
    "        return 1.\n",
    "\n",
    "    \n",
    "def bus_arrival(hour):\n",
    "    rate = bus_rate(hour)\n",
    "    arrivals = pyro.sample(\"arrivals\", dist.Poisson(rate))\n",
    "    return arrivals\n",
    "\n",
    "for hour in range(24):\n",
    "    print(bus_arrival(hour))\n"
   ]
  },
  {
   "cell_type": "markdown",
   "metadata": {},
   "source": [
    "2. Prepare a simpler guide, that will try to approximate `bus_arrival()` using only Poisson distribution (with $\\lambda$ as a param).\n",
    "\n",
    "$$N_{approx} \\sim Pois\\left(\\lambda\\right)$$\n",
    "\n",
    "   Train the model for hour 14.00 (`hour = 14.00`) and display how both params vary.\n"
   ]
  },
  {
   "cell_type": "code",
   "execution_count": 25,
   "metadata": {},
   "outputs": [],
   "source": [
    "def bus_arrival_guide(t):\n",
    "    rate = pyro.param(\"rate\", torch.tensor(4.))\n",
    "    arrivals = pyro.sample(\"arrivals\", dist.Poisson(rate))\n",
    "    return arrivals\n"
   ]
  },
  {
   "cell_type": "code",
   "execution_count": 26,
   "metadata": {},
   "outputs": [
    {
     "data": {
      "application/vnd.jupyter.widget-view+json": {
       "model_id": "b2b5b53e88a74745828f04737021315b",
       "version_major": 2,
       "version_minor": 0
      },
      "text/plain": [
       "HBox(children=(FloatProgress(value=0.0, max=5000.0), HTML(value='')))"
      ]
     },
     "metadata": {},
     "output_type": "display_data"
    },
    {
     "name": "stdout",
     "output_type": "stream",
     "text": [
      "\n",
      "rate = 3.847766160964966\n"
     ]
    },
    {
     "data": {
      "image/png": "[encoded data removed]",
      "text/plain": [
       "<Figure size 432x288 with 1 Axes>"
      ]
     },
     "metadata": {
      "needs_background": "light"
     },
     "output_type": "display_data"
    },
    {
     "data": {
      "image/png": "[encoded data removed]",
      "text/plain": [
       "<Figure size 432x288 with 1 Axes>"
      ]
     },
     "metadata": {
      "needs_background": "light"
     },
     "output_type": "display_data"
    }
   ],
   "source": [
    "lr = 1e-2\n",
    "n_steps = 5000\n",
    "hour = 14.0\n",
    "\n",
    "pyro.clear_param_store()\n",
    "svi = pyro.infer.SVI(model=bus_arrival,\n",
    "                     guide=bus_arrival_guide,\n",
    "                     optim=pyro.optim.SGD({\"lr\": lr}),\n",
    "                     loss=pyro.infer.Trace_ELBO())\n",
    "\n",
    "losses, rates = [], []\n",
    "for _ in trange(n_steps):\n",
    "    losses.append(svi.step(hour))\n",
    "    rates.append(pyro.param(\"rate\").item())\n",
    "\n",
    "plt.plot(losses)\n",
    "plt.title(\"ELBO\")\n",
    "plt.xlabel(\"step\")\n",
    "plt.ylabel(\"loss\")\n",
    "print(f\"rate = {pyro.param('rate').item()}\")\n",
    "plt.show()\n",
    "\n",
    "plt.subplot(1,2,1)\n",
    "plt.plot(rates)\n",
    "plt.ylabel('rate')\n",
    "plt.tight_layout()\n",
    "plt.show()\n"
   ]
  }
 ],
 "metadata": {
  "kernelspec": {
   "display_name": "Python 3",
   "language": "python",
   "name": "python3"
  },
  "language_info": {
   "codemirror_mode": {
    "name": "ipython",
    "version": 3
   },
   "file_extension": ".py",
   "mimetype": "text/x-python",
   "name": "python",
   "nbconvert_exporter": "python",
   "pygments_lexer": "ipython3",
   "version": "3.7.6"
  }
 },
 "nbformat": 4,
 "nbformat_minor": 4
}
