{
 "cells": [
  {
   "cell_type": "code",
   "execution_count": null,
   "metadata": {},
   "outputs": [],
   "source": [
    "# import pytorch and pyro; set random generator seed\n",
    "import torch\n",
    "\n",
    "import pyro\n",
    "import pyro.distributions as dist\n",
    "from pyro.infer import Predictive\n",
    "\n",
    "import matplotlib.pyplot as plt\n",
    "from tqdm.notebook import trange\n",
    "\n",
    "pyro.set_rng_seed(101)\n",
    "\n",
    "# to clear all variables stored by Pyro\n",
    "pyro.clear_param_store()\n",
    "\n",
    "# enable validation for useful warnings and errors\n",
    "pyro.enable_validation(True)\n"
   ]
  },
  {
   "cell_type": "markdown",
   "metadata": {},
   "source": [
    "----\n",
    "Homework\n",
    "-------\n",
    "\n",
    "\n"
   ]
  },
  {
   "cell_type": "markdown",
   "metadata": {},
   "source": [
    "1. Prepare a Pyro model function, which will express the number of buses arriving and the bus stop in an hour. Assume [Poisson distribution](https://en.wikipedia.org/wiki/Poisson_distribution) of the number of arrivals in per hour:\n",
    "\n",
    "   $$N \\sim Pois\\left(\\lambda\\right)$$\n",
    "\n",
    "   where $\\lambda$ is set using a function:\n",
    "   \n",
    "   $$\\lambda = \\left\\{\\begin{array}{c} 2 + 2 * \\sin\\left(\\frac{\\pi}{16}\\left(t - 8\\right)\\right),\\; t \\in \\left[8, 24\\right]  \\\\ 1,\\; t \\notin \\left[8, 24\\right] \\end{array}\\right.$$\n",
    "   \n",
    "   Where $t$ is hour of the day. Use the function from the cell below.\n",
    "   \n",
    "   For each hour print 3 sampels of bus arrivals. \n"
   ]
  },
  {
   "cell_type": "code",
   "execution_count": null,
   "metadata": {},
   "outputs": [],
   "source": [
    "from math import sin, pi\n",
    "  \n",
    "def bus_arrival(hour):\n",
    "    pass"
   ]
  },
  {
   "cell_type": "markdown",
   "metadata": {},
   "source": [
    "2. Prepare a simpler guide, that will try to approximate `bus_arrival()` using only Poisson distribution (with $\\lambda$ as a param).\n",
    "\n",
    "$$N_{approx} \\sim Pois\\left(\\lambda\\right)$$\n",
    "\n",
    "   Train the model for hour 14.00 (`hour = 14.00`) and display how both params vary.\n"
   ]
  },
  {
   "cell_type": "code",
   "execution_count": null,
   "metadata": {},
   "outputs": [],
   "source": [
    "def bus_arrival_guide(t):\n",
    "    pass"
   ]
  },
  {
   "cell_type": "code",
   "execution_count": null,
   "metadata": {},
   "outputs": [],
   "source": [
    "lr = 1e-2\n",
    "n_steps = 5000\n",
    "hour = 14.0\n",
    "\n",
    "pyro.clear_param_store()\n",
    "svi = pyro.infer.SVI() # fill parameters\n",
    "\n",
    "losses, rates = [], []\n",
    "# write the training loop\n",
    "\n",
    "plt.plot(losses)\n",
    "plt.title(\"ELBO\")\n",
    "plt.xlabel(\"step\")\n",
    "plt.ylabel(\"loss\")\n",
    "print(f\"rate = {pyro.param('rate').item()}\")\n",
    "plt.show()\n",
    "\n",
    "plt.subplot(1,2,1)\n",
    "plt.plot(rates)\n",
    "plt.ylabel('rate')\n",
    "plt.tight_layout()\n",
    "plt.show()\n"
   ]
  }
 ],
 "metadata": {
  "kernelspec": {
   "display_name": "Python 3",
   "language": "python",
   "name": "python3"
  },
  "language_info": {
   "codemirror_mode": {
    "name": "ipython",
    "version": 3
   },
   "file_extension": ".py",
   "mimetype": "text/x-python",
   "name": "python",
   "nbconvert_exporter": "python",
   "pygments_lexer": "ipython3",
   "version": "3.8.2"
  }
 },
 "nbformat": 4,
 "nbformat_minor": 4
}
